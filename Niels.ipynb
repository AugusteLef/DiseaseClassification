{
 "cells": [
  {
   "cell_type": "markdown",
   "metadata": {},
   "source": [
    "# Imports"
   ]
  },
  {
   "cell_type": "code",
   "execution_count": 61,
   "metadata": {},
   "outputs": [],
   "source": [
    "#Displaying and importing data\n",
    "import numpy as np\n",
    "import pandas as pd\n",
    "import matplotlib.pyplot as plt\n",
    "import seaborn as sns\n",
    "\n",
    "# Sampling\n",
    "from imblearn.over_sampling import SMOTE\n",
    "\n",
    "# Classification\n",
    "from sklearn.metrics import balanced_accuracy_score\n",
    "\n",
    "from sklearn.svm import SVC\n",
    "from sklearn.multiclass import OneVsRestClassifier\n",
    "from sklearn.svm import LinearSVC\n",
    "from sklearn.multiclass import OneVsOneClassifier\n",
    "from sklearn.multiclass import OutputCodeClassifier\n",
    "from sklearn.neighbors import KNeighborsClassifier\n",
    "from sklearn.ensemble import RandomForestClassifier\n",
    "from sklearn.neural_network import MLPClassifier\n",
    "from xgboost import XGBClassifier"
   ]
  },
  {
   "cell_type": "code",
   "execution_count": 62,
   "metadata": {},
   "outputs": [],
   "source": [
    "### Importing the data"
   ]
  },
  {
   "cell_type": "code",
   "execution_count": 63,
   "metadata": {},
   "outputs": [
    {
     "data": {
      "text/html": [
       "<div>\n",
       "<style scoped>\n",
       "    .dataframe tbody tr th:only-of-type {\n",
       "        vertical-align: middle;\n",
       "    }\n",
       "\n",
       "    .dataframe tbody tr th {\n",
       "        vertical-align: top;\n",
       "    }\n",
       "\n",
       "    .dataframe thead th {\n",
       "        text-align: right;\n",
       "    }\n",
       "</style>\n",
       "<table border=\"1\" class=\"dataframe\">\n",
       "  <thead>\n",
       "    <tr style=\"text-align: right;\">\n",
       "      <th></th>\n",
       "      <th>x0</th>\n",
       "      <th>x1</th>\n",
       "      <th>x2</th>\n",
       "      <th>x3</th>\n",
       "      <th>x4</th>\n",
       "      <th>x5</th>\n",
       "      <th>x6</th>\n",
       "      <th>x7</th>\n",
       "      <th>x8</th>\n",
       "      <th>x9</th>\n",
       "      <th>...</th>\n",
       "      <th>x990</th>\n",
       "      <th>x991</th>\n",
       "      <th>x992</th>\n",
       "      <th>x993</th>\n",
       "      <th>x994</th>\n",
       "      <th>x995</th>\n",
       "      <th>x996</th>\n",
       "      <th>x997</th>\n",
       "      <th>x998</th>\n",
       "      <th>x999</th>\n",
       "    </tr>\n",
       "  </thead>\n",
       "  <tbody>\n",
       "    <tr>\n",
       "      <th>count</th>\n",
       "      <td>4800.000000</td>\n",
       "      <td>4800.000000</td>\n",
       "      <td>4800.000000</td>\n",
       "      <td>4800.000000</td>\n",
       "      <td>4800.000000</td>\n",
       "      <td>4800.000000</td>\n",
       "      <td>4800.000000</td>\n",
       "      <td>4800.000000</td>\n",
       "      <td>4800.000000</td>\n",
       "      <td>4800.000000</td>\n",
       "      <td>...</td>\n",
       "      <td>4800.000000</td>\n",
       "      <td>4800.000000</td>\n",
       "      <td>4800.000000</td>\n",
       "      <td>4800.000000</td>\n",
       "      <td>4800.000000</td>\n",
       "      <td>4800.000000</td>\n",
       "      <td>4800.000000</td>\n",
       "      <td>4800.000000</td>\n",
       "      <td>4800.000000</td>\n",
       "      <td>4800.000000</td>\n",
       "    </tr>\n",
       "    <tr>\n",
       "      <th>mean</th>\n",
       "      <td>-0.403221</td>\n",
       "      <td>0.220492</td>\n",
       "      <td>1.106921</td>\n",
       "      <td>0.068664</td>\n",
       "      <td>0.279619</td>\n",
       "      <td>0.388415</td>\n",
       "      <td>0.236717</td>\n",
       "      <td>-0.152921</td>\n",
       "      <td>0.432778</td>\n",
       "      <td>-0.752647</td>\n",
       "      <td>...</td>\n",
       "      <td>0.673128</td>\n",
       "      <td>-0.444427</td>\n",
       "      <td>0.448460</td>\n",
       "      <td>-0.693521</td>\n",
       "      <td>0.540356</td>\n",
       "      <td>-0.729529</td>\n",
       "      <td>0.395605</td>\n",
       "      <td>0.440266</td>\n",
       "      <td>1.240888</td>\n",
       "      <td>0.937046</td>\n",
       "    </tr>\n",
       "    <tr>\n",
       "      <th>std</th>\n",
       "      <td>0.663232</td>\n",
       "      <td>0.764817</td>\n",
       "      <td>0.794665</td>\n",
       "      <td>0.888101</td>\n",
       "      <td>0.690293</td>\n",
       "      <td>0.628839</td>\n",
       "      <td>0.625738</td>\n",
       "      <td>0.782704</td>\n",
       "      <td>0.568082</td>\n",
       "      <td>0.573664</td>\n",
       "      <td>...</td>\n",
       "      <td>0.866030</td>\n",
       "      <td>0.706408</td>\n",
       "      <td>0.786608</td>\n",
       "      <td>1.033146</td>\n",
       "      <td>0.707031</td>\n",
       "      <td>0.729511</td>\n",
       "      <td>0.584042</td>\n",
       "      <td>0.574004</td>\n",
       "      <td>0.668117</td>\n",
       "      <td>0.884328</td>\n",
       "    </tr>\n",
       "    <tr>\n",
       "      <th>min</th>\n",
       "      <td>-3.026434</td>\n",
       "      <td>-2.177817</td>\n",
       "      <td>-0.993103</td>\n",
       "      <td>-2.958118</td>\n",
       "      <td>-1.992190</td>\n",
       "      <td>-2.229151</td>\n",
       "      <td>-1.620785</td>\n",
       "      <td>-3.842304</td>\n",
       "      <td>-2.046807</td>\n",
       "      <td>-3.980367</td>\n",
       "      <td>...</td>\n",
       "      <td>-1.351814</td>\n",
       "      <td>-3.587288</td>\n",
       "      <td>-2.027416</td>\n",
       "      <td>-4.932804</td>\n",
       "      <td>-1.548640</td>\n",
       "      <td>-3.720113</td>\n",
       "      <td>-1.686527</td>\n",
       "      <td>-2.076105</td>\n",
       "      <td>-1.547162</td>\n",
       "      <td>-1.861970</td>\n",
       "    </tr>\n",
       "    <tr>\n",
       "      <th>25%</th>\n",
       "      <td>-0.827374</td>\n",
       "      <td>-0.306275</td>\n",
       "      <td>0.518833</td>\n",
       "      <td>-0.604431</td>\n",
       "      <td>-0.180091</td>\n",
       "      <td>-0.002606</td>\n",
       "      <td>-0.188781</td>\n",
       "      <td>-0.681943</td>\n",
       "      <td>0.096057</td>\n",
       "      <td>-1.084700</td>\n",
       "      <td>...</td>\n",
       "      <td>0.027572</td>\n",
       "      <td>-0.854477</td>\n",
       "      <td>-0.152561</td>\n",
       "      <td>-1.446615</td>\n",
       "      <td>0.039625</td>\n",
       "      <td>-1.209385</td>\n",
       "      <td>0.012024</td>\n",
       "      <td>0.107948</td>\n",
       "      <td>0.773387</td>\n",
       "      <td>0.276949</td>\n",
       "    </tr>\n",
       "    <tr>\n",
       "      <th>50%</th>\n",
       "      <td>-0.312958</td>\n",
       "      <td>0.084477</td>\n",
       "      <td>0.933785</td>\n",
       "      <td>-0.061674</td>\n",
       "      <td>0.199699</td>\n",
       "      <td>0.357911</td>\n",
       "      <td>0.147484</td>\n",
       "      <td>-0.049152</td>\n",
       "      <td>0.409125</td>\n",
       "      <td>-0.696674</td>\n",
       "      <td>...</td>\n",
       "      <td>0.473798</td>\n",
       "      <td>-0.344868</td>\n",
       "      <td>0.325952</td>\n",
       "      <td>-0.603889</td>\n",
       "      <td>0.457354</td>\n",
       "      <td>-0.640468</td>\n",
       "      <td>0.335444</td>\n",
       "      <td>0.454828</td>\n",
       "      <td>1.138441</td>\n",
       "      <td>0.752086</td>\n",
       "    </tr>\n",
       "    <tr>\n",
       "      <th>75%</th>\n",
       "      <td>0.076125</td>\n",
       "      <td>0.624882</td>\n",
       "      <td>1.585165</td>\n",
       "      <td>0.737608</td>\n",
       "      <td>0.644108</td>\n",
       "      <td>0.753130</td>\n",
       "      <td>0.612462</td>\n",
       "      <td>0.409195</td>\n",
       "      <td>0.752769</td>\n",
       "      <td>-0.361554</td>\n",
       "      <td>...</td>\n",
       "      <td>1.246985</td>\n",
       "      <td>0.048537</td>\n",
       "      <td>0.971055</td>\n",
       "      <td>0.111399</td>\n",
       "      <td>0.978256</td>\n",
       "      <td>-0.192801</td>\n",
       "      <td>0.727108</td>\n",
       "      <td>0.792661</td>\n",
       "      <td>1.625235</td>\n",
       "      <td>1.549565</td>\n",
       "    </tr>\n",
       "    <tr>\n",
       "      <th>max</th>\n",
       "      <td>1.769423</td>\n",
       "      <td>4.102255</td>\n",
       "      <td>4.946383</td>\n",
       "      <td>3.461174</td>\n",
       "      <td>3.682944</td>\n",
       "      <td>3.209605</td>\n",
       "      <td>3.303836</td>\n",
       "      <td>2.223731</td>\n",
       "      <td>3.235681</td>\n",
       "      <td>0.823849</td>\n",
       "      <td>...</td>\n",
       "      <td>5.333272</td>\n",
       "      <td>1.840349</td>\n",
       "      <td>3.701539</td>\n",
       "      <td>2.378358</td>\n",
       "      <td>3.393483</td>\n",
       "      <td>2.271806</td>\n",
       "      <td>3.589027</td>\n",
       "      <td>2.841595</td>\n",
       "      <td>5.489396</td>\n",
       "      <td>4.947546</td>\n",
       "    </tr>\n",
       "  </tbody>\n",
       "</table>\n",
       "<p>8 rows × 1000 columns</p>\n",
       "</div>"
      ],
      "text/plain": [
       "                x0           x1           x2           x3           x4  \\\n",
       "count  4800.000000  4800.000000  4800.000000  4800.000000  4800.000000   \n",
       "mean     -0.403221     0.220492     1.106921     0.068664     0.279619   \n",
       "std       0.663232     0.764817     0.794665     0.888101     0.690293   \n",
       "min      -3.026434    -2.177817    -0.993103    -2.958118    -1.992190   \n",
       "25%      -0.827374    -0.306275     0.518833    -0.604431    -0.180091   \n",
       "50%      -0.312958     0.084477     0.933785    -0.061674     0.199699   \n",
       "75%       0.076125     0.624882     1.585165     0.737608     0.644108   \n",
       "max       1.769423     4.102255     4.946383     3.461174     3.682944   \n",
       "\n",
       "                x5           x6           x7           x8           x9  ...  \\\n",
       "count  4800.000000  4800.000000  4800.000000  4800.000000  4800.000000  ...   \n",
       "mean      0.388415     0.236717    -0.152921     0.432778    -0.752647  ...   \n",
       "std       0.628839     0.625738     0.782704     0.568082     0.573664  ...   \n",
       "min      -2.229151    -1.620785    -3.842304    -2.046807    -3.980367  ...   \n",
       "25%      -0.002606    -0.188781    -0.681943     0.096057    -1.084700  ...   \n",
       "50%       0.357911     0.147484    -0.049152     0.409125    -0.696674  ...   \n",
       "75%       0.753130     0.612462     0.409195     0.752769    -0.361554  ...   \n",
       "max       3.209605     3.303836     2.223731     3.235681     0.823849  ...   \n",
       "\n",
       "              x990         x991         x992         x993         x994  \\\n",
       "count  4800.000000  4800.000000  4800.000000  4800.000000  4800.000000   \n",
       "mean      0.673128    -0.444427     0.448460    -0.693521     0.540356   \n",
       "std       0.866030     0.706408     0.786608     1.033146     0.707031   \n",
       "min      -1.351814    -3.587288    -2.027416    -4.932804    -1.548640   \n",
       "25%       0.027572    -0.854477    -0.152561    -1.446615     0.039625   \n",
       "50%       0.473798    -0.344868     0.325952    -0.603889     0.457354   \n",
       "75%       1.246985     0.048537     0.971055     0.111399     0.978256   \n",
       "max       5.333272     1.840349     3.701539     2.378358     3.393483   \n",
       "\n",
       "              x995         x996         x997         x998         x999  \n",
       "count  4800.000000  4800.000000  4800.000000  4800.000000  4800.000000  \n",
       "mean     -0.729529     0.395605     0.440266     1.240888     0.937046  \n",
       "std       0.729511     0.584042     0.574004     0.668117     0.884328  \n",
       "min      -3.720113    -1.686527    -2.076105    -1.547162    -1.861970  \n",
       "25%      -1.209385     0.012024     0.107948     0.773387     0.276949  \n",
       "50%      -0.640468     0.335444     0.454828     1.138441     0.752086  \n",
       "75%      -0.192801     0.727108     0.792661     1.625235     1.549565  \n",
       "max       2.271806     3.589027     2.841595     5.489396     4.947546  \n",
       "\n",
       "[8 rows x 1000 columns]"
      ]
     },
     "execution_count": 63,
     "metadata": {},
     "output_type": "execute_result"
    }
   ],
   "source": [
    "X_train =  pd.read_csv(\"X_train.csv\",delimiter=\",\", index_col='id')\n",
    "y_train = pd.read_csv(\"y_train.csv\",delimiter=\",\", index_col='id')\n",
    "\n",
    "X_test =  pd.read_csv(\"X_test.csv\", delimiter=\",\", index_col='id')\n",
    "\n",
    "X_train.describe()"
   ]
  },
  {
   "cell_type": "code",
   "execution_count": 64,
   "metadata": {},
   "outputs": [
    {
     "name": "stdout",
     "output_type": "stream",
     "text": [
      "<class 'pandas.core.frame.DataFrame'>\n",
      "Float64Index: 4800 entries, 0.0 to 4799.0\n",
      "Columns: 1000 entries, x0 to x999\n",
      "dtypes: float64(1000)\n",
      "memory usage: 36.7 MB\n"
     ]
    }
   ],
   "source": [
    "X_train.info()"
   ]
  },
  {
   "cell_type": "markdown",
   "metadata": {},
   "source": [
    "##### No value has std=0 and no null values per row"
   ]
  },
  {
   "cell_type": "code",
   "execution_count": 65,
   "metadata": {},
   "outputs": [
    {
     "name": "stdout",
     "output_type": "stream",
     "text": [
      "Series([], dtype: float64)\n"
     ]
    },
    {
     "name": "stderr",
     "output_type": "stream",
     "text": [
      "/opt/anaconda3/lib/python3.8/site-packages/seaborn/distributions.py:283: UserWarning: Data must have variance to compute a kernel density estimate.\n",
      "  warnings.warn(msg, UserWarning)\n"
     ]
    },
    {
     "data": {
      "text/plain": [
       "<matplotlib.axes._subplots.AxesSubplot at 0x7f844a0b4430>"
      ]
     },
     "execution_count": 65,
     "metadata": {},
     "output_type": "execute_result"
    },
    {
     "data": {
      "image/png": "[encoded data removed]",
      "text/plain": [
       "<Figure size 432x288 with 1 Axes>"
      ]
     },
     "metadata": {
      "needs_background": "light"
     },
     "output_type": "display_data"
    }
   ],
   "source": [
    "print(X_train.std()[X_train.std() == 0])\n",
    "is_null_row = X_train.isnull().sum(axis=1)\n",
    "is_null_row.sort_values(inplace=True, ascending=False)\n",
    "sns.distplot(np.asarray(is_null_row))"
   ]
  },
  {
   "cell_type": "markdown",
   "metadata": {},
   "source": [
    "### Data balancing : Equilibrating classes"
   ]
  },
  {
   "cell_type": "code",
   "execution_count": 66,
   "metadata": {},
   "outputs": [],
   "source": [
    "def display_freq(y_train):\n",
    "    sns.distplot(y_train)\n",
    "    plt.ylabel('Frequency')\n",
    "    plt.title('Count')\n",
    "\n",
    "    plt.show()\n",
    "    print(sum(y_train['y']==0))\n",
    "    print(sum(y_train['y']==1))\n",
    "    print(sum(y_train['y']==2))"
   ]
  },
  {
   "cell_type": "markdown",
   "metadata": {},
   "source": [
    "##### Downsampling"
   ]
  },
  {
   "cell_type": "markdown",
   "metadata": {},
   "source": [
    "##### Upsampling"
   ]
  },
  {
   "cell_type": "markdown",
   "metadata": {},
   "source": [
    "##### Resampling using SMOTE"
   ]
  },
  {
   "cell_type": "code",
   "execution_count": 67,
   "metadata": {},
   "outputs": [
    {
     "name": "stdout",
     "output_type": "stream",
     "text": [
      "Before SMOTE : \n"
     ]
    },
    {
     "name": "stderr",
     "output_type": "stream",
     "text": [
      "/opt/anaconda3/lib/python3.8/site-packages/seaborn/distributions.py:369: UserWarning: Default bandwidth for data is 0; skipping density estimation.\n",
      "  warnings.warn(msg, UserWarning)\n"
     ]
    },
    {
     "data": {
      "image/png": "[encoded data removed]",
      "text/plain": [
       "<Figure size 432x288 with 1 Axes>"
      ]
     },
     "metadata": {
      "needs_background": "light"
     },
     "output_type": "display_data"
    },
    {
     "name": "stdout",
     "output_type": "stream",
     "text": [
      "600\n",
      "3600\n",
      "600\n",
      "After SMOTE : \n"
     ]
    },
    {
     "data": {
      "image/png": "[encoded data removed]",
      "text/plain": [
       "<Figure size 432x288 with 1 Axes>"
      ]
     },
     "metadata": {
      "needs_background": "light"
     },
     "output_type": "display_data"
    },
    {
     "name": "stdout",
     "output_type": "stream",
     "text": [
      "3600\n",
      "3600\n",
      "3600\n"
     ]
    }
   ],
   "source": [
    "sm = SMOTE()\n",
    "\n",
    "print(\"Before SMOTE : \")\n",
    "display_freq(y_train)\n",
    "\n",
    "x_train, y_train = sm.fit_resample(X_train, y_train)\n",
    "\n",
    "print(\"After SMOTE : \")\n",
    "display_freq(y_train)"
   ]
  },
  {
   "cell_type": "markdown",
   "metadata": {},
   "source": [
    "### Outlier detection"
   ]
  },
  {
   "cell_type": "markdown",
   "metadata": {},
   "source": [
    "##### Outlier detection try failed lmao j'y comprend pas grand chose"
   ]
  },
  {
   "cell_type": "code",
   "execution_count": 68,
   "metadata": {},
   "outputs": [
    {
     "name": "stdout",
     "output_type": "stream",
     "text": [
      "Train shape before cleaning :  (10800, 1000)\n",
      "Train shape after cleaning :  (3600, 1000)\n"
     ]
    },
    {
     "data": {
      "image/png": "[encoded data removed]",
      "text/plain": [
       "<Figure size 432x288 with 1 Axes>"
      ]
     },
     "metadata": {
      "needs_background": "light"
     },
     "output_type": "display_data"
    },
    {
     "name": "stdout",
     "output_type": "stream",
     "text": [
      "0\n",
      "3600\n",
      "0\n"
     ]
    }
   ],
   "source": [
    "def cleanXydata(X_train, y_train):\n",
    "    x_train =  X_train.fillna(X_train.median())\n",
    "    \n",
    "    #refill id\n",
    "    y_train.columns = [\"y\"]\n",
    "    y_train[\"id\"] = y_train.index\n",
    "    y_train = y_train[[\"id\", \"y\"]]\n",
    "    x_train[\"id\"] = x_train.index\n",
    "\n",
    "    train_data = pd.merge(left=x_train, right=y_train, how='inner').drop(columns=['id'])\n",
    "\n",
    "    types = train_data['y'].unique()\n",
    "    d = {type : train_data[train_data['y'] == type] for type in types}\n",
    "\n",
    "    # Set the quantile\n",
    "    low = .25\n",
    "    high = .75\n",
    "\n",
    "    bounds = {}\n",
    "    for type in types:\n",
    "        filt_df = d[type].loc[:, d[type].columns != 'Type'] # Remove 'Type' Column\n",
    "        quant_df = filt_df.quantile([low, high])\n",
    "        IQR = quant_df.iloc[1,:]-  quant_df.iloc[0,:]\n",
    "        quant_df.iloc[0,:] = quant_df.iloc[0,:] - 1.5*IQR\n",
    "        quant_df.iloc[1,:] = quant_df.iloc[1,:] + 1.5*IQR\n",
    "        bounds[type] = quant_df\n",
    "\n",
    "\n",
    "    # Define our new dataset by removing the outliers \n",
    "    filt_df = d[1].loc[:, d[1].columns != 'y'] # Remove 'Type' Column\n",
    "    filt_df = filt_df.apply(lambda x: x[(x>bounds[1].loc[low,x.name]) & (x < bounds[1].loc[high,x.name])], axis=0)\n",
    "    filt_df = pd.concat([filt_df,d[1].loc[:,'y']], axis=1)\n",
    "    filt_df = filt_df.fillna(filt_df.median())\n",
    "    \n",
    "    return filt_df.drop(columns=['y']), filt_df\n",
    "\n",
    "print(\"Train shape before cleaning : \", x_train.shape)\n",
    "x_train,y_train = cleanXydata(x_train, y_train)\n",
    "print(\"Train shape after cleaning : \", x_train.shape)\n",
    "display_freq(y_train)"
   ]
  },
  {
   "cell_type": "code",
   "execution_count": null,
   "metadata": {},
   "outputs": [],
   "source": []
  },
  {
   "cell_type": "code",
   "execution_count": null,
   "metadata": {},
   "outputs": [],
   "source": []
  },
  {
   "cell_type": "code",
   "execution_count": null,
   "metadata": {},
   "outputs": [],
   "source": []
  },
  {
   "cell_type": "markdown",
   "metadata": {},
   "source": [
    "### Feature Selection"
   ]
  },
  {
   "cell_type": "code",
   "execution_count": null,
   "metadata": {},
   "outputs": [],
   "source": []
  },
  {
   "cell_type": "code",
   "execution_count": null,
   "metadata": {},
   "outputs": [],
   "source": []
  },
  {
   "cell_type": "code",
   "execution_count": null,
   "metadata": {},
   "outputs": [],
   "source": []
  },
  {
   "cell_type": "markdown",
   "metadata": {},
   "source": [
    "### Multiclass classification starts here"
   ]
  },
  {
   "cell_type": "code",
   "execution_count": 73,
   "metadata": {},
   "outputs": [
    {
     "name": "stdout",
     "output_type": "stream",
     "text": [
      "Train shape :  (2412, 1000)\n",
      "Test shape :  (1188, 1000)\n"
     ]
    }
   ],
   "source": [
    "# divide datasets\n",
    "## don't forget to drop y if its still there\n",
    "x_train, x_test, y_train, y_test = train_test_split(x_train, y_train, test_size=0.33, random_state=5)\n",
    "print(\"Train shape : \" , x_train.shape)\n",
    "print(\"Test shape : \",x_test.shape)"
   ]
  },
  {
   "cell_type": "markdown",
   "metadata": {},
   "source": [
    "##### Support Vector classification"
   ]
  },
  {
   "cell_type": "code",
   "execution_count": 20,
   "metadata": {},
   "outputs": [],
   "source": [
    "svm_classifier = SVC(decision_function_shape='ovr')\n",
    "svm_classifier.fit(x_train, y_train)\n",
    "y_train_pred_svm = svm_classifier.predict(x_train)\n",
    "y_test_pred_svm = svm_classifier.predict(x_test)\n",
    "\n",
    "print(balanced_accuracy_score(y_test, y_test_pred_svm))"
   ]
  },
  {
   "cell_type": "markdown",
   "metadata": {},
   "source": [
    "##### One-Vs-The-Rest classification (multiclass learning), LinearSVC"
   ]
  },
  {
   "cell_type": "code",
   "execution_count": null,
   "metadata": {},
   "outputs": [],
   "source": [
    "oneVsRest_classifier = OneVsRestClassifier(LinearSVC(random_state=0,max_iter=50000))\n",
    "oneVsRest_classifier.fit(x_train, y_train)\n",
    "y_train_pred_1vr = oneVsRest_classifier.predict(x_train)\n",
    "y_test_pred_1vr = oneVsRest_classifier.predict(x_test)\n",
    "\n",
    "print(balanced_accuracy_score(y_test, y_test_pred_1vr))"
   ]
  },
  {
   "cell_type": "markdown",
   "metadata": {},
   "source": [
    "##### OneVsRest using XGBoost"
   ]
  },
  {
   "cell_type": "code",
   "execution_count": null,
   "metadata": {},
   "outputs": [],
   "source": [
    "xgb_classifier = OneVsRestClassifier(XGBClassifier())\n",
    "xgb_classifier.fit(x_train,y_train)\n",
    "y_train_pred_dnn = dnn_classifier.predict(x_train)\n",
    "y_test_pred_dnn = dnn_classifier.predict(x_test)\n",
    "\n",
    "print(balanced_accuracy_score(y_test.values, y_test_pred_dnn))"
   ]
  },
  {
   "cell_type": "markdown",
   "metadata": {},
   "source": [
    "##### One-Vs-One classification"
   ]
  },
  {
   "cell_type": "code",
   "execution_count": 11,
   "metadata": {},
   "outputs": [
    {
     "name": "stderr",
     "output_type": "stream",
     "text": [
      "/opt/anaconda3/lib/python3.8/site-packages/sklearn/svm/_base.py:976: ConvergenceWarning: Liblinear failed to converge, increase the number of iterations.\n",
      "  warnings.warn(\"Liblinear failed to converge, increase \"\n"
     ]
    },
    {
     "name": "stdout",
     "output_type": "stream",
     "text": [
      "0.9403906417086855\n"
     ]
    },
    {
     "name": "stderr",
     "output_type": "stream",
     "text": [
      "/opt/anaconda3/lib/python3.8/site-packages/sklearn/svm/_base.py:976: ConvergenceWarning: Liblinear failed to converge, increase the number of iterations.\n",
      "  warnings.warn(\"Liblinear failed to converge, increase \"\n"
     ]
    }
   ],
   "source": [
    "oneVsOne_classifier = OneVsOneClassifier(LinearSVC(random_state=0,max_iter=10000))\n",
    "oneVsOne_classifier.fit(x_train, y_train)\n",
    "y_train_pred_1v1 = oneVsOne_classifier.predict(x_train)\n",
    "y_test_pred_1v1 = oneVsOne_classifier.predict(x_test)\n",
    "\n",
    "print(balanced_accuracy_score(y_test.values, y_test_pred_1v1))"
   ]
  },
  {
   "cell_type": "markdown",
   "metadata": {},
   "source": [
    "##### Error-Correcting Output-Codes"
   ]
  },
  {
   "cell_type": "code",
   "execution_count": 12,
   "metadata": {},
   "outputs": [
    {
     "name": "stderr",
     "output_type": "stream",
     "text": [
      "/opt/anaconda3/lib/python3.8/site-packages/sklearn/svm/_base.py:976: ConvergenceWarning: Liblinear failed to converge, increase the number of iterations.\n",
      "  warnings.warn(\"Liblinear failed to converge, increase \"\n",
      "/opt/anaconda3/lib/python3.8/site-packages/sklearn/svm/_base.py:976: ConvergenceWarning: Liblinear failed to converge, increase the number of iterations.\n",
      "  warnings.warn(\"Liblinear failed to converge, increase \"\n",
      "/opt/anaconda3/lib/python3.8/site-packages/sklearn/svm/_base.py:976: ConvergenceWarning: Liblinear failed to converge, increase the number of iterations.\n",
      "  warnings.warn(\"Liblinear failed to converge, increase \"\n"
     ]
    },
    {
     "name": "stdout",
     "output_type": "stream",
     "text": [
      "0.9258839607709146\n"
     ]
    },
    {
     "name": "stderr",
     "output_type": "stream",
     "text": [
      "/opt/anaconda3/lib/python3.8/site-packages/sklearn/svm/_base.py:976: ConvergenceWarning: Liblinear failed to converge, increase the number of iterations.\n",
      "  warnings.warn(\"Liblinear failed to converge, increase \"\n"
     ]
    }
   ],
   "source": [
    "code_classifier = OutputCodeClassifier(LinearSVC(random_state=0,max_iter=10000),code_size=2,random_state=0)\n",
    "code_classifier.fit(x_train,y_train)\n",
    "y_train_pred_code = code_classifier.predict(x_train)\n",
    "y_test_pred_code = code_classifier.predict(x_test)\n",
    "\n",
    "print(balanced_accuracy_score(y_test.values, y_test_pred_code))"
   ]
  },
  {
   "cell_type": "markdown",
   "metadata": {},
   "source": [
    "##### KNN Classifier"
   ]
  },
  {
   "cell_type": "code",
   "execution_count": 13,
   "metadata": {},
   "outputs": [
    {
     "name": "stdout",
     "output_type": "stream",
     "text": [
      "0.8486473403921186\n"
     ]
    }
   ],
   "source": [
    "knn_classifier = KNeighborsClassifier()\n",
    "knn_classifier.fit(x_train,y_train)\n",
    "y_train_pred_knn = knn_classifier.predict(x_train)\n",
    "y_test_pred_knn = knn_classifier.predict(x_test)\n",
    "\n",
    "print(balanced_accuracy_score(y_test.values, y_test_pred_knn))"
   ]
  },
  {
   "cell_type": "markdown",
   "metadata": {},
   "source": [
    "##### Random Forest"
   ]
  },
  {
   "cell_type": "code",
   "execution_count": 14,
   "metadata": {},
   "outputs": [
    {
     "name": "stdout",
     "output_type": "stream",
     "text": [
      "0.8897537231932082\n"
     ]
    }
   ],
   "source": [
    "rf_classifier = RandomForestClassifier()\n",
    "rf_classifier.fit(x_train,y_train)\n",
    "y_train_pred_rf = rf_classifier.predict(x_train)\n",
    "y_test_pred_rf = rf_classifier.predict(x_test)\n",
    "\n",
    "print(balanced_accuracy_score(y_test.values, y_test_pred_rf))"
   ]
  },
  {
   "cell_type": "markdown",
   "metadata": {},
   "source": [
    "### Multilayer Perceptron network"
   ]
  },
  {
   "cell_type": "code",
   "execution_count": 15,
   "metadata": {},
   "outputs": [
    {
     "name": "stdout",
     "output_type": "stream",
     "text": [
      "0.9516270239160675\n"
     ]
    }
   ],
   "source": [
    "snn_classifier = MLPClassifier()\n",
    "snn_classifier.fit(x_train,y_train)\n",
    "y_train_pred_snn = snn_classifier.predict(x_train)\n",
    "y_test_pred_snn = snn_classifier.predict(x_test)\n",
    "\n",
    "print(balanced_accuracy_score(y_test.values, y_test_pred_snn))"
   ]
  },
  {
   "cell_type": "markdown",
   "metadata": {},
   "source": [
    "### Deep Neural Network"
   ]
  },
  {
   "cell_type": "code",
   "execution_count": 16,
   "metadata": {},
   "outputs": [
    {
     "name": "stdout",
     "output_type": "stream",
     "text": [
      "0.9488746235549308\n"
     ]
    }
   ],
   "source": [
    "dnn_classifier = MLPClassifier(hidden_layer_sizes = [100]*5)\n",
    "dnn_classifier.fit(x_train,y_train)\n",
    "y_train_pred_dnn = dnn_classifier.predict(x_train)\n",
    "y_test_pred_dnn = dnn_classifier.predict(x_test)\n",
    "\n",
    "print(balanced_accuracy_score(y_test.values, y_test_pred_dnn))"
   ]
  },
  {
   "cell_type": "markdown",
   "metadata": {},
   "source": [
    "### Outputting results"
   ]
  },
  {
   "cell_type": "code",
   "execution_count": 21,
   "metadata": {},
   "outputs": [
    {
     "name": "stdout",
     "output_type": "stream",
     "text": [
      "id    0\n",
      "y     0\n",
      "dtype: int64\n",
      "id    4099\n",
      "y        2\n",
      "dtype: int64\n"
     ]
    }
   ],
   "source": [
    "y_test_predict = svm_classifier.predict(X_test)\n",
    "\n",
    "y_test_df = pd.DataFrame(data=y_test_predict)\n",
    "\n",
    "#y_test_df = pd.DataFrame(data=y_nnet_test)\n",
    "y_test_df.columns = [\"y\"]\n",
    "y_test_df[\"id\"] = y_test_df.index\n",
    "y_test_df = y_test_df[[\"id\", \"y\"]]\n",
    "\n",
    "print(y_test_df.min())\n",
    "print(y_test_df.max())\n",
    "\n",
    "y_test_df.to_csv(\"y_predict_sub3.csv\", index=False)"
   ]
  },
  {
   "cell_type": "code",
   "execution_count": null,
   "metadata": {},
   "outputs": [],
   "source": []
  }
 ],
 "metadata": {
  "kernelspec": {
   "display_name": "Python 3",
   "language": "python",
   "name": "python3"
  },
  "language_info": {
   "codemirror_mode": {
    "name": "ipython",
    "version": 3
   },
   "file_extension": ".py",
   "mimetype": "text/x-python",
   "name": "python",
   "nbconvert_exporter": "python",
   "pygments_lexer": "ipython3",
   "version": "3.8.3"
  }
 },
 "nbformat": 4,
 "nbformat_minor": 4
}
